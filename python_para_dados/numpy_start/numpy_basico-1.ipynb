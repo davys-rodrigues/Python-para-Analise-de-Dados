{
 "cells": [
  {
   "cell_type": "markdown",
   "id": "508e969e",
   "metadata": {},
   "source": [
    "### BIBLIOTECAS"
   ]
  },
  {
   "cell_type": "code",
   "execution_count": 1,
   "id": "bd3094bf",
   "metadata": {},
   "outputs": [],
   "source": [
    "import pandas as pd\n",
    "import numpy as np"
   ]
  },
  {
   "cell_type": "markdown",
   "id": "756934a5",
   "metadata": {},
   "source": [
    "## ASPECTOS BÁSICOS DO NUMPY"
   ]
  },
  {
   "cell_type": "markdown",
   "id": "1c3d5a72",
   "metadata": {},
   "source": [
    "### ARRAY"
   ]
  },
  {
   "cell_type": "markdown",
   "id": "ce7957cb",
   "metadata": {},
   "source": [
    "Um array é uma estrutura de dados que armazena uma coleção de elementos, organizados em uma sequência indexada.\n",
    "São utilizados em programação para armazenar e manipular conjuntos de dados."
   ]
  },
  {
   "cell_type": "code",
   "execution_count": 2,
   "id": "440b93de",
   "metadata": {},
   "outputs": [],
   "source": [
    "### Mais velociade em executar o código com arrays numpy\n",
    "\n",
    "arr = np.arange(1000)\n",
    "lis = list(range(1000))"
   ]
  },
  {
   "cell_type": "code",
   "execution_count": 3,
   "id": "27c8398c",
   "metadata": {
    "scrolled": true
   },
   "outputs": [
    {
     "name": "stdout",
     "output_type": "stream",
     "text": [
      "1.83 µs ± 8.76 ns per loop (mean ± std. dev. of 7 runs, 1,000,000 loops each)\n"
     ]
    }
   ],
   "source": [
    "%timeit tempo_arr = arr * 2"
   ]
  },
  {
   "cell_type": "code",
   "execution_count": 4,
   "id": "dcd5f8a1",
   "metadata": {},
   "outputs": [
    {
     "name": "stdout",
     "output_type": "stream",
     "text": [
      "22.9 µs ± 512 ns per loop (mean ± std. dev. of 7 runs, 10,000 loops each)\n"
     ]
    }
   ],
   "source": [
    "%timeit tempo_lis = [x * 2 for x in lis]"
   ]
  },
  {
   "cell_type": "markdown",
   "id": "bc46c2cf",
   "metadata": {},
   "source": []
  },
  {
   "cell_type": "markdown",
   "id": "ee2ce254",
   "metadata": {},
   "source": [
    "### NDARRAY"
   ]
  },
  {
   "cell_type": "markdown",
   "id": "bcadbc8b",
   "metadata": {},
   "source": [
    "#### Objetos array n-dimensionais"
   ]
  },
  {
   "cell_type": "code",
   "execution_count": 5,
   "id": "50d746b2",
   "metadata": {},
   "outputs": [
    {
     "data": {
      "text/plain": [
       "array([[ 1.5, -0.1,  4. ],\n",
       "       [ 0. , -3. ,  6.5]])"
      ]
     },
     "execution_count": 5,
     "metadata": {},
     "output_type": "execute_result"
    }
   ],
   "source": [
    "### Os dados devem ser do mesmo tipo\n",
    "dados = np.array([[1.5, -0.1, 4], \n",
    "                  [0, -3, 6.5]])\n",
    "dados"
   ]
  },
  {
   "cell_type": "markdown",
   "id": "23d5dc97",
   "metadata": {},
   "source": [
    "##### Operações simples com o ndarray"
   ]
  },
  {
   "cell_type": "code",
   "execution_count": 6,
   "id": "449954c3",
   "metadata": {},
   "outputs": [
    {
     "data": {
      "text/plain": [
       "array([[ 15.,  -1.,  40.],\n",
       "       [  0., -30.,  65.]])"
      ]
     },
     "execution_count": 6,
     "metadata": {},
     "output_type": "execute_result"
    }
   ],
   "source": [
    "dados * 10"
   ]
  },
  {
   "cell_type": "code",
   "execution_count": 7,
   "id": "c49a47c1",
   "metadata": {},
   "outputs": [
    {
     "data": {
      "text/plain": [
       "array([[ 3. , -0.2,  8. ],\n",
       "       [ 0. , -6. , 13. ]])"
      ]
     },
     "execution_count": 7,
     "metadata": {},
     "output_type": "execute_result"
    }
   ],
   "source": [
    "dados + dados"
   ]
  },
  {
   "cell_type": "code",
   "execution_count": 8,
   "id": "5a4fb42a",
   "metadata": {},
   "outputs": [
    {
     "data": {
      "text/plain": [
       "(2, 3)"
      ]
     },
     "execution_count": 8,
     "metadata": {},
     "output_type": "execute_result"
    }
   ],
   "source": [
    "### Tamanho da dimensão de um ndarray\n",
    "dados.shape"
   ]
  },
  {
   "cell_type": "code",
   "execution_count": 9,
   "id": "a2096521",
   "metadata": {},
   "outputs": [
    {
     "data": {
      "text/plain": [
       "dtype('float64')"
      ]
     },
     "execution_count": 9,
     "metadata": {},
     "output_type": "execute_result"
    }
   ],
   "source": [
    "dados.dtype"
   ]
  },
  {
   "cell_type": "markdown",
   "id": "a442b391",
   "metadata": {},
   "source": []
  },
  {
   "cell_type": "markdown",
   "id": "9d3d11ab",
   "metadata": {},
   "source": [
    "##### Criando NDARRAYS"
   ]
  },
  {
   "cell_type": "code",
   "execution_count": 10,
   "id": "a7b2d1eb",
   "metadata": {},
   "outputs": [],
   "source": [
    "# Com lista / uma dimensão\n",
    "data = [6, 7.5, 8, 0, 1]\n",
    "\n",
    "arr1 = np.array(data)"
   ]
  },
  {
   "cell_type": "code",
   "execution_count": 11,
   "id": "e0ba4e9d",
   "metadata": {},
   "outputs": [
    {
     "data": {
      "text/plain": [
       "array([[1, 2, 3, 4],\n",
       "       [5, 6, 7, 8]])"
      ]
     },
     "execution_count": 11,
     "metadata": {},
     "output_type": "execute_result"
    }
   ],
   "source": [
    "### Com listas de listas\n",
    "data2 = [[1, 2, 3, 4],\n",
    "        [5, 6, 7, 8]]\n",
    "arr2 = np.array(data2)\n",
    "arr2"
   ]
  },
  {
   "cell_type": "code",
   "execution_count": 12,
   "id": "df1430be",
   "metadata": {},
   "outputs": [
    {
     "data": {
      "text/plain": [
       "2"
      ]
     },
     "execution_count": 12,
     "metadata": {},
     "output_type": "execute_result"
    }
   ],
   "source": [
    "### .ndim | ver a dimensão do ndarray\n",
    "arr2.ndim"
   ]
  },
  {
   "cell_type": "code",
   "execution_count": 13,
   "id": "9e352887",
   "metadata": {},
   "outputs": [
    {
     "data": {
      "text/plain": [
       "(2, 4)"
      ]
     },
     "execution_count": 13,
     "metadata": {},
     "output_type": "execute_result"
    }
   ],
   "source": [
    "arr2.shape"
   ]
  },
  {
   "cell_type": "markdown",
   "id": "4067d097",
   "metadata": {},
   "source": []
  },
  {
   "cell_type": "markdown",
   "id": "8f46d991",
   "metadata": {},
   "source": [
    "##### Criando arrays com 0's"
   ]
  },
  {
   "cell_type": "code",
   "execution_count": 14,
   "id": "73bee156",
   "metadata": {},
   "outputs": [
    {
     "data": {
      "text/plain": [
       "array([0., 0., 0., 0., 0., 0., 0., 0., 0., 0.])"
      ]
     },
     "execution_count": 14,
     "metadata": {},
     "output_type": "execute_result"
    }
   ],
   "source": [
    "np.zeros(10)"
   ]
  },
  {
   "cell_type": "code",
   "execution_count": 15,
   "id": "e9dc5af6",
   "metadata": {},
   "outputs": [
    {
     "data": {
      "text/plain": [
       "array([[0., 0., 0.],\n",
       "       [0., 0., 0.],\n",
       "       [0., 0., 0.]])"
      ]
     },
     "execution_count": 15,
     "metadata": {},
     "output_type": "execute_result"
    }
   ],
   "source": [
    "np.zeros((3,3))"
   ]
  },
  {
   "cell_type": "markdown",
   "id": "a2ca7028",
   "metadata": {},
   "source": [
    "##### np.arange"
   ]
  },
  {
   "cell_type": "code",
   "execution_count": 16,
   "id": "e229c147",
   "metadata": {},
   "outputs": [
    {
     "data": {
      "text/plain": [
       "array([ 0,  1,  2,  3,  4,  5,  6,  7,  8,  9, 10])"
      ]
     },
     "execution_count": 16,
     "metadata": {},
     "output_type": "execute_result"
    }
   ],
   "source": [
    "### Versão com função interna do Python\n",
    "np.arange(11)"
   ]
  },
  {
   "cell_type": "code",
   "execution_count": 19,
   "id": "cc5e10e1",
   "metadata": {},
   "outputs": [
    {
     "data": {
      "text/plain": [
       "array([[1., 0.],\n",
       "       [0., 1.]])"
      ]
     },
     "execution_count": 19,
     "metadata": {},
     "output_type": "execute_result"
    }
   ],
   "source": [
    "### ndarray de um quadrado perfeito com 0's e 1's\n",
    "np.eye(2)"
   ]
  },
  {
   "cell_type": "markdown",
   "id": "fd18ffc0",
   "metadata": {},
   "source": []
  },
  {
   "cell_type": "markdown",
   "id": "d54a93c5",
   "metadata": {},
   "source": [
    "##### Especificar o tipo do ndarray"
   ]
  },
  {
   "cell_type": "code",
   "execution_count": 23,
   "id": "1342faaa",
   "metadata": {},
   "outputs": [
    {
     "data": {
      "text/plain": [
       "dtype('float64')"
      ]
     },
     "execution_count": 23,
     "metadata": {},
     "output_type": "execute_result"
    }
   ],
   "source": [
    "arr3 = np.array([1,2,3], dtype = float)\n",
    "arr3.dtype"
   ]
  },
  {
   "cell_type": "code",
   "execution_count": 26,
   "id": "33b40be7",
   "metadata": {},
   "outputs": [
    {
     "data": {
      "text/plain": [
       "dtype('int64')"
      ]
     },
     "execution_count": 26,
     "metadata": {},
     "output_type": "execute_result"
    }
   ],
   "source": [
    "### Mudando o tipo de um array\n",
    "int_arr = arr3.astype(int)\n",
    "int_arr.dtype"
   ]
  },
  {
   "cell_type": "markdown",
   "id": "a5407e33",
   "metadata": {},
   "source": []
  },
  {
   "cell_type": "markdown",
   "id": "616d073a",
   "metadata": {},
   "source": [
    "##### Aritimética com arrays"
   ]
  },
  {
   "cell_type": "code",
   "execution_count": 32,
   "id": "56d8097c",
   "metadata": {},
   "outputs": [
    {
     "data": {
      "text/plain": [
       "array([[1, 2, 3, 4],\n",
       "       [5, 6, 7, 8]])"
      ]
     },
     "execution_count": 32,
     "metadata": {},
     "output_type": "execute_result"
    }
   ],
   "source": [
    "arr2"
   ]
  },
  {
   "cell_type": "code",
   "execution_count": 30,
   "id": "91193abf",
   "metadata": {},
   "outputs": [
    {
     "data": {
      "text/plain": [
       "array([[ 1,  4,  9, 16],\n",
       "       [25, 36, 49, 64]])"
      ]
     },
     "execution_count": 30,
     "metadata": {},
     "output_type": "execute_result"
    }
   ],
   "source": [
    "arr2 * arr2"
   ]
  },
  {
   "cell_type": "code",
   "execution_count": 31,
   "id": "5c61c1bd",
   "metadata": {},
   "outputs": [
    {
     "data": {
      "text/plain": [
       "array([[0, 0, 0, 0],\n",
       "       [0, 0, 0, 0]])"
      ]
     },
     "execution_count": 31,
     "metadata": {},
     "output_type": "execute_result"
    }
   ],
   "source": [
    "arr2 - arr2"
   ]
  },
  {
   "cell_type": "code",
   "execution_count": 33,
   "id": "3ff86db8",
   "metadata": {},
   "outputs": [
    {
     "data": {
      "text/plain": [
       "array([[1.        , 0.5       , 0.33333333, 0.25      ],\n",
       "       [0.2       , 0.16666667, 0.14285714, 0.125     ]])"
      ]
     },
     "execution_count": 33,
     "metadata": {},
     "output_type": "execute_result"
    }
   ],
   "source": [
    "1 / arr2"
   ]
  },
  {
   "cell_type": "code",
   "execution_count": 38,
   "id": "2db3d294",
   "metadata": {},
   "outputs": [
    {
     "data": {
      "text/plain": [
       "array([[False, False, False, False],\n",
       "       [False, False, False, False]])"
      ]
     },
     "execution_count": 38,
     "metadata": {},
     "output_type": "execute_result"
    }
   ],
   "source": [
    "### Comparar arrays simétricos gera arrays booleanos\n",
    "arr2 > arr2"
   ]
  },
  {
   "cell_type": "markdown",
   "id": "8a5dea08",
   "metadata": {},
   "source": []
  },
  {
   "cell_type": "markdown",
   "id": "844fe0ec",
   "metadata": {},
   "source": [
    "##### Indexação e fatiamentos básicos"
   ]
  },
  {
   "cell_type": "markdown",
   "id": "4e4d67d7",
   "metadata": {},
   "source": [
    "Unidimensional"
   ]
  },
  {
   "cell_type": "code",
   "execution_count": 44,
   "id": "3d675343",
   "metadata": {},
   "outputs": [
    {
     "data": {
      "text/plain": [
       "array([0, 1, 2, 3, 4, 5, 6, 7, 8, 9])"
      ]
     },
     "execution_count": 44,
     "metadata": {},
     "output_type": "execute_result"
    }
   ],
   "source": [
    "arr = np.arange(10)\n",
    "arr"
   ]
  },
  {
   "cell_type": "code",
   "execution_count": 46,
   "id": "559db231",
   "metadata": {},
   "outputs": [
    {
     "data": {
      "text/plain": [
       "4"
      ]
     },
     "execution_count": 46,
     "metadata": {},
     "output_type": "execute_result"
    }
   ],
   "source": [
    "arr[4]"
   ]
  },
  {
   "cell_type": "code",
   "execution_count": 47,
   "id": "4c41b016",
   "metadata": {},
   "outputs": [
    {
     "data": {
      "text/plain": [
       "array([5, 6, 7])"
      ]
     },
     "execution_count": 47,
     "metadata": {},
     "output_type": "execute_result"
    }
   ],
   "source": [
    "arr[5:8]"
   ]
  },
  {
   "cell_type": "code",
   "execution_count": 49,
   "id": "17dbff27",
   "metadata": {},
   "outputs": [
    {
     "data": {
      "text/plain": [
       "array([ 0,  1,  2,  3,  4, 10, 10,  7,  8,  9])"
      ]
     },
     "execution_count": 49,
     "metadata": {},
     "output_type": "execute_result"
    }
   ],
   "source": [
    "arr[5:7] = 10\n",
    "arr"
   ]
  },
  {
   "cell_type": "markdown",
   "id": "297e3dd3",
   "metadata": {},
   "source": [
    "n-dimensional"
   ]
  },
  {
   "cell_type": "code",
   "execution_count": 51,
   "id": "1942b40b",
   "metadata": {},
   "outputs": [
    {
     "data": {
      "text/plain": [
       "array([[1, 2, 3],\n",
       "       [4, 5, 6],\n",
       "       [7, 8, 9]])"
      ]
     },
     "execution_count": 51,
     "metadata": {},
     "output_type": "execute_result"
    }
   ],
   "source": [
    "arr2d = np.array([[1, 2, 3],\n",
    "                [4, 5, 6],\n",
    "                [7, 8, 9]])\n",
    "arr2d"
   ]
  },
  {
   "cell_type": "code",
   "execution_count": 52,
   "id": "ae30abaf",
   "metadata": {},
   "outputs": [
    {
     "data": {
      "text/plain": [
       "array([7, 8, 9])"
      ]
     },
     "execution_count": 52,
     "metadata": {},
     "output_type": "execute_result"
    }
   ],
   "source": [
    "### Fatia linha\n",
    "arr2d[2]"
   ]
  },
  {
   "cell_type": "code",
   "execution_count": 54,
   "id": "6f2f2495",
   "metadata": {},
   "outputs": [
    {
     "data": {
      "text/plain": [
       "6"
      ]
     },
     "execution_count": 54,
     "metadata": {},
     "output_type": "execute_result"
    }
   ],
   "source": [
    "### Elementos individuais | array[linha][coluna]\n",
    "arr2d[1][2]"
   ]
  },
  {
   "cell_type": "markdown",
   "id": "160989d5",
   "metadata": {},
   "source": []
  },
  {
   "cell_type": "markdown",
   "id": "e5e90a38",
   "metadata": {},
   "source": [
    "##### Indexação booleana"
   ]
  },
  {
   "cell_type": "code",
   "execution_count": 62,
   "id": "a919657f",
   "metadata": {},
   "outputs": [
    {
     "data": {
      "text/plain": [
       "array(['Davy', 'Gaby', 'John', 'Gaby', 'John', 'Davy', 'Davy'],\n",
       "      dtype='<U4')"
      ]
     },
     "execution_count": 62,
     "metadata": {},
     "output_type": "execute_result"
    }
   ],
   "source": [
    "names = np.array(['Davy', 'Gaby', 'John', 'Gaby', 'John', 'Davy', 'Davy'])\n",
    "data = np.array([[4,7], [0, 2], [-5, 6], [0, 0],\n",
    "               [1, 2], [-12, -4], [3, 4]])\n",
    "names"
   ]
  },
  {
   "cell_type": "code",
   "execution_count": 63,
   "id": "a66a66d9",
   "metadata": {},
   "outputs": [
    {
     "data": {
      "text/plain": [
       "array([[  4,   7],\n",
       "       [  0,   2],\n",
       "       [ -5,   6],\n",
       "       [  0,   0],\n",
       "       [  1,   2],\n",
       "       [-12,  -4],\n",
       "       [  3,   4]])"
      ]
     },
     "execution_count": 63,
     "metadata": {},
     "output_type": "execute_result"
    }
   ],
   "source": [
    "data"
   ]
  },
  {
   "cell_type": "code",
   "execution_count": 64,
   "id": "02467e74",
   "metadata": {},
   "outputs": [
    {
     "data": {
      "text/plain": [
       "array([ True, False, False, False, False,  True,  True])"
      ]
     },
     "execution_count": 64,
     "metadata": {},
     "output_type": "execute_result"
    }
   ],
   "source": [
    "names == 'Davy'"
   ]
  },
  {
   "cell_type": "code",
   "execution_count": 65,
   "id": "f21fb139",
   "metadata": {},
   "outputs": [
    {
     "data": {
      "text/plain": [
       "array([[  4,   7],\n",
       "       [-12,  -4],\n",
       "       [  3,   4]])"
      ]
     },
     "execution_count": 65,
     "metadata": {},
     "output_type": "execute_result"
    }
   ],
   "source": [
    "data[names == 'Davy']"
   ]
  },
  {
   "cell_type": "code",
   "execution_count": 66,
   "id": "22d60812",
   "metadata": {},
   "outputs": [
    {
     "data": {
      "text/plain": [
       "array([[ 7],\n",
       "       [-4],\n",
       "       [ 4]])"
      ]
     },
     "execution_count": 66,
     "metadata": {},
     "output_type": "execute_result"
    }
   ],
   "source": [
    "data[names == 'Davy', 1:]"
   ]
  },
  {
   "cell_type": "code",
   "execution_count": 67,
   "id": "a420bccc",
   "metadata": {},
   "outputs": [
    {
     "data": {
      "text/plain": [
       "array([ 7, -4,  4])"
      ]
     },
     "execution_count": 67,
     "metadata": {},
     "output_type": "execute_result"
    }
   ],
   "source": [
    "data[names == 'Davy', 1]"
   ]
  },
  {
   "cell_type": "code",
   "execution_count": 69,
   "id": "e949b0dc",
   "metadata": {},
   "outputs": [
    {
     "data": {
      "text/plain": [
       "array([[ 0,  2],\n",
       "       [-5,  6],\n",
       "       [ 0,  0],\n",
       "       [ 1,  2]])"
      ]
     },
     "execution_count": 69,
     "metadata": {},
     "output_type": "execute_result"
    }
   ],
   "source": [
    "data[names != 'Davy']"
   ]
  },
  {
   "cell_type": "code",
   "execution_count": 70,
   "id": "62e544bc",
   "metadata": {},
   "outputs": [
    {
     "data": {
      "text/plain": [
       "array([ True,  True, False,  True, False,  True,  True])"
      ]
     },
     "execution_count": 70,
     "metadata": {},
     "output_type": "execute_result"
    }
   ],
   "source": [
    "### Combinando com operadores lógicos & (and) | (or)\n",
    "mask = (names == 'Davy') | (names == 'Gaby')\n",
    "mask"
   ]
  },
  {
   "cell_type": "code",
   "execution_count": 71,
   "id": "c685c1a8",
   "metadata": {},
   "outputs": [
    {
     "data": {
      "text/plain": [
       "array([[  4,   7],\n",
       "       [  0,   2],\n",
       "       [  0,   0],\n",
       "       [-12,  -4],\n",
       "       [  3,   4]])"
      ]
     },
     "execution_count": 71,
     "metadata": {},
     "output_type": "execute_result"
    }
   ],
   "source": [
    "data[mask]"
   ]
  },
  {
   "cell_type": "code",
   "execution_count": 72,
   "id": "efc3634e",
   "metadata": {},
   "outputs": [],
   "source": [
    "### removendo os negativos\n",
    "data[data < 0] = 0"
   ]
  },
  {
   "cell_type": "code",
   "execution_count": 73,
   "id": "0babbb5e",
   "metadata": {},
   "outputs": [
    {
     "data": {
      "text/plain": [
       "array([[4, 7],\n",
       "       [0, 2],\n",
       "       [0, 6],\n",
       "       [0, 0],\n",
       "       [1, 2],\n",
       "       [0, 0],\n",
       "       [3, 4]])"
      ]
     },
     "execution_count": 73,
     "metadata": {},
     "output_type": "execute_result"
    }
   ],
   "source": [
    "data"
   ]
  },
  {
   "cell_type": "markdown",
   "id": "b55dff1d",
   "metadata": {},
   "source": []
  },
  {
   "cell_type": "markdown",
   "id": "8cf4518c",
   "metadata": {},
   "source": [
    "##### Indexação sofisticada"
   ]
  },
  {
   "cell_type": "markdown",
   "id": "eebac5ab",
   "metadata": {},
   "source": [
    "indexação com arrays inteiros"
   ]
  },
  {
   "cell_type": "code",
   "execution_count": 75,
   "id": "f8abf4de",
   "metadata": {},
   "outputs": [
    {
     "data": {
      "text/plain": [
       "array([[0., 0., 0., 0.],\n",
       "       [0., 0., 0., 0.],\n",
       "       [0., 0., 0., 0.],\n",
       "       [0., 0., 0., 0.],\n",
       "       [0., 0., 0., 0.],\n",
       "       [0., 0., 0., 0.],\n",
       "       [0., 0., 0., 0.],\n",
       "       [0., 0., 0., 0.]])"
      ]
     },
     "execution_count": 75,
     "metadata": {},
     "output_type": "execute_result"
    }
   ],
   "source": [
    "arr = np.zeros((8,4))\n",
    "arr"
   ]
  },
  {
   "cell_type": "code",
   "execution_count": 80,
   "id": "1460c63e",
   "metadata": {},
   "outputs": [],
   "source": [
    "for x in range(8):\n",
    "    arr[x] = x"
   ]
  },
  {
   "cell_type": "code",
   "execution_count": 81,
   "id": "6a0d5611",
   "metadata": {},
   "outputs": [
    {
     "data": {
      "text/plain": [
       "array([[0., 0., 0., 0.],\n",
       "       [1., 1., 1., 1.],\n",
       "       [2., 2., 2., 2.],\n",
       "       [3., 3., 3., 3.],\n",
       "       [4., 4., 4., 4.],\n",
       "       [5., 5., 5., 5.],\n",
       "       [6., 6., 6., 6.],\n",
       "       [7., 7., 7., 7.]])"
      ]
     },
     "execution_count": 81,
     "metadata": {},
     "output_type": "execute_result"
    }
   ],
   "source": [
    "arr"
   ]
  },
  {
   "cell_type": "code",
   "execution_count": 82,
   "id": "2042f40e",
   "metadata": {},
   "outputs": [
    {
     "data": {
      "text/plain": [
       "array([[4., 4., 4., 4.],\n",
       "       [3., 3., 3., 3.],\n",
       "       [0., 0., 0., 0.],\n",
       "       [6., 6., 6., 6.]])"
      ]
     },
     "execution_count": 82,
     "metadata": {},
     "output_type": "execute_result"
    }
   ],
   "source": [
    "arr[[4, 3, 0, 6]]"
   ]
  },
  {
   "cell_type": "markdown",
   "id": "dbc6ea7e",
   "metadata": {},
   "source": [
    "###### reshape"
   ]
  },
  {
   "cell_type": "code",
   "execution_count": 86,
   "id": "5e30f757",
   "metadata": {},
   "outputs": [
    {
     "data": {
      "text/plain": [
       "array([[ 0,  1,  2,  3],\n",
       "       [ 4,  5,  6,  7],\n",
       "       [ 8,  9, 10, 11],\n",
       "       [12, 13, 14, 15],\n",
       "       [16, 17, 18, 19],\n",
       "       [20, 21, 22, 23],\n",
       "       [24, 25, 26, 27],\n",
       "       [28, 29, 30, 31]])"
      ]
     },
     "execution_count": 86,
     "metadata": {},
     "output_type": "execute_result"
    }
   ],
   "source": [
    "arr = np.arange(32).reshape((8, 4))\n",
    "arr"
   ]
  },
  {
   "cell_type": "code",
   "execution_count": null,
   "id": "0eff92fb",
   "metadata": {},
   "outputs": [],
   "source": []
  },
  {
   "cell_type": "code",
   "execution_count": null,
   "id": "26fb5893",
   "metadata": {},
   "outputs": [],
   "source": []
  },
  {
   "cell_type": "code",
   "execution_count": null,
   "id": "e8e0b0aa",
   "metadata": {},
   "outputs": [],
   "source": []
  },
  {
   "cell_type": "code",
   "execution_count": null,
   "id": "5eafc37f",
   "metadata": {},
   "outputs": [],
   "source": []
  }
 ],
 "metadata": {
  "kernelspec": {
   "display_name": "Python 3 (ipykernel)",
   "language": "python",
   "name": "python3"
  },
  "language_info": {
   "codemirror_mode": {
    "name": "ipython",
    "version": 3
   },
   "file_extension": ".py",
   "mimetype": "text/x-python",
   "name": "python",
   "nbconvert_exporter": "python",
   "pygments_lexer": "ipython3",
   "version": "3.11.5"
  }
 },
 "nbformat": 4,
 "nbformat_minor": 5
}
