{
 "cells": [
  {
   "cell_type": "markdown",
   "id": "7718157d",
   "metadata": {},
   "source": [
    "# Treino com dataset de vendas"
   ]
  },
  {
   "cell_type": "markdown",
   "id": "95fb4642",
   "metadata": {},
   "source": [
    "Davy Rodrigues"
   ]
  },
  {
   "cell_type": "markdown",
   "id": "44e1203a",
   "metadata": {},
   "source": [
    "### Bibliotecas"
   ]
  },
  {
   "cell_type": "code",
   "execution_count": 1,
   "id": "3fda28c2",
   "metadata": {},
   "outputs": [],
   "source": [
    "import numpy as np\n",
    "import pandas as pd\n",
    "import matplotlib.pyplot as plt\n",
    "from datetime import datetime\n",
    "# plt.style.use('ggplot') "
   ]
  },
  {
   "cell_type": "code",
   "execution_count": 2,
   "id": "892d4dc5",
   "metadata": {},
   "outputs": [
    {
     "data": {
      "text/html": [
       "<div>\n",
       "<style scoped>\n",
       "    .dataframe tbody tr th:only-of-type {\n",
       "        vertical-align: middle;\n",
       "    }\n",
       "\n",
       "    .dataframe tbody tr th {\n",
       "        vertical-align: top;\n",
       "    }\n",
       "\n",
       "    .dataframe thead th {\n",
       "        text-align: right;\n",
       "    }\n",
       "</style>\n",
       "<table border=\"1\" class=\"dataframe\">\n",
       "  <thead>\n",
       "    <tr style=\"text-align: right;\">\n",
       "      <th></th>\n",
       "      <th>Store</th>\n",
       "      <th>Date</th>\n",
       "      <th>Weekly_Sales</th>\n",
       "      <th>Holiday_Flag</th>\n",
       "      <th>Temperature</th>\n",
       "      <th>Fuel_Price</th>\n",
       "      <th>CPI</th>\n",
       "      <th>Unemployment</th>\n",
       "    </tr>\n",
       "  </thead>\n",
       "  <tbody>\n",
       "    <tr>\n",
       "      <th>0</th>\n",
       "      <td>1</td>\n",
       "      <td>05-02-2010</td>\n",
       "      <td>1643690.90</td>\n",
       "      <td>0</td>\n",
       "      <td>42.31</td>\n",
       "      <td>2.572</td>\n",
       "      <td>211.096358</td>\n",
       "      <td>8.106</td>\n",
       "    </tr>\n",
       "    <tr>\n",
       "      <th>1</th>\n",
       "      <td>1</td>\n",
       "      <td>12-02-2010</td>\n",
       "      <td>1641957.44</td>\n",
       "      <td>1</td>\n",
       "      <td>38.51</td>\n",
       "      <td>2.548</td>\n",
       "      <td>211.242170</td>\n",
       "      <td>8.106</td>\n",
       "    </tr>\n",
       "    <tr>\n",
       "      <th>2</th>\n",
       "      <td>1</td>\n",
       "      <td>19-02-2010</td>\n",
       "      <td>1611968.17</td>\n",
       "      <td>0</td>\n",
       "      <td>39.93</td>\n",
       "      <td>2.514</td>\n",
       "      <td>211.289143</td>\n",
       "      <td>8.106</td>\n",
       "    </tr>\n",
       "    <tr>\n",
       "      <th>3</th>\n",
       "      <td>1</td>\n",
       "      <td>26-02-2010</td>\n",
       "      <td>1409727.59</td>\n",
       "      <td>0</td>\n",
       "      <td>46.63</td>\n",
       "      <td>2.561</td>\n",
       "      <td>211.319643</td>\n",
       "      <td>8.106</td>\n",
       "    </tr>\n",
       "    <tr>\n",
       "      <th>4</th>\n",
       "      <td>1</td>\n",
       "      <td>05-03-2010</td>\n",
       "      <td>1554806.68</td>\n",
       "      <td>0</td>\n",
       "      <td>46.50</td>\n",
       "      <td>2.625</td>\n",
       "      <td>211.350143</td>\n",
       "      <td>8.106</td>\n",
       "    </tr>\n",
       "  </tbody>\n",
       "</table>\n",
       "</div>"
      ],
      "text/plain": [
       "   Store        Date  Weekly_Sales  Holiday_Flag  Temperature  Fuel_Price  \\\n",
       "0      1  05-02-2010    1643690.90             0        42.31       2.572   \n",
       "1      1  12-02-2010    1641957.44             1        38.51       2.548   \n",
       "2      1  19-02-2010    1611968.17             0        39.93       2.514   \n",
       "3      1  26-02-2010    1409727.59             0        46.63       2.561   \n",
       "4      1  05-03-2010    1554806.68             0        46.50       2.625   \n",
       "\n",
       "          CPI  Unemployment  \n",
       "0  211.096358         8.106  \n",
       "1  211.242170         8.106  \n",
       "2  211.289143         8.106  \n",
       "3  211.319643         8.106  \n",
       "4  211.350143         8.106  "
      ]
     },
     "execution_count": 2,
     "metadata": {},
     "output_type": "execute_result"
    }
   ],
   "source": [
    "df = pd.read_csv('Walmart_sales.csv', \n",
    "        sep=',')\n",
    "df.head()"
   ]
  },
  {
   "cell_type": "code",
   "execution_count": 3,
   "id": "a120db73",
   "metadata": {},
   "outputs": [
    {
     "name": "stdout",
     "output_type": "stream",
     "text": [
      "<class 'pandas.core.frame.DataFrame'>\n",
      "RangeIndex: 6435 entries, 0 to 6434\n",
      "Data columns (total 8 columns):\n",
      " #   Column        Non-Null Count  Dtype  \n",
      "---  ------        --------------  -----  \n",
      " 0   Store         6435 non-null   int64  \n",
      " 1   Date          6435 non-null   object \n",
      " 2   Weekly_Sales  6435 non-null   float64\n",
      " 3   Holiday_Flag  6435 non-null   int64  \n",
      " 4   Temperature   6435 non-null   float64\n",
      " 5   Fuel_Price    6435 non-null   float64\n",
      " 6   CPI           6435 non-null   float64\n",
      " 7   Unemployment  6435 non-null   float64\n",
      "dtypes: float64(5), int64(2), object(1)\n",
      "memory usage: 402.3+ KB\n"
     ]
    }
   ],
   "source": [
    "df.info()"
   ]
  },
  {
   "cell_type": "code",
   "execution_count": 4,
   "id": "f3219c19",
   "metadata": {},
   "outputs": [],
   "source": [
    "### convertendo o obj date para datetime\n",
    "\n",
    "df['Date'] = pd.to_datetime(df['Date'], format='mixed')"
   ]
  },
  {
   "cell_type": "code",
   "execution_count": 5,
   "id": "8d88b26e",
   "metadata": {},
   "outputs": [
    {
     "data": {
      "text/plain": [
       "(6435, 8)"
      ]
     },
     "execution_count": 5,
     "metadata": {},
     "output_type": "execute_result"
    }
   ],
   "source": [
    "df.shape"
   ]
  },
  {
   "cell_type": "code",
   "execution_count": 6,
   "id": "40c340bc",
   "metadata": {},
   "outputs": [
    {
     "data": {
      "text/plain": [
       "Store                    int64\n",
       "Date            datetime64[ns]\n",
       "Weekly_Sales           float64\n",
       "Holiday_Flag             int64\n",
       "Temperature            float64\n",
       "Fuel_Price             float64\n",
       "CPI                    float64\n",
       "Unemployment           float64\n",
       "dtype: object"
      ]
     },
     "execution_count": 6,
     "metadata": {},
     "output_type": "execute_result"
    }
   ],
   "source": [
    "df.dtypes"
   ]
  },
  {
   "cell_type": "code",
   "execution_count": 7,
   "id": "ffe709fb",
   "metadata": {},
   "outputs": [
    {
     "data": {
      "text/html": [
       "<div>\n",
       "<style scoped>\n",
       "    .dataframe tbody tr th:only-of-type {\n",
       "        vertical-align: middle;\n",
       "    }\n",
       "\n",
       "    .dataframe tbody tr th {\n",
       "        vertical-align: top;\n",
       "    }\n",
       "\n",
       "    .dataframe thead th {\n",
       "        text-align: right;\n",
       "    }\n",
       "</style>\n",
       "<table border=\"1\" class=\"dataframe\">\n",
       "  <thead>\n",
       "    <tr style=\"text-align: right;\">\n",
       "      <th></th>\n",
       "      <th>Store</th>\n",
       "      <th>Date</th>\n",
       "      <th>Weekly_Sales</th>\n",
       "      <th>Holiday_Flag</th>\n",
       "      <th>Temperature</th>\n",
       "      <th>Fuel_Price</th>\n",
       "      <th>CPI</th>\n",
       "      <th>Unemployment</th>\n",
       "    </tr>\n",
       "  </thead>\n",
       "  <tbody>\n",
       "    <tr>\n",
       "      <th>count</th>\n",
       "      <td>6435.000000</td>\n",
       "      <td>6435</td>\n",
       "      <td>6.435000e+03</td>\n",
       "      <td>6435.000000</td>\n",
       "      <td>6435.000000</td>\n",
       "      <td>6435.000000</td>\n",
       "      <td>6435.000000</td>\n",
       "      <td>6435.000000</td>\n",
       "    </tr>\n",
       "    <tr>\n",
       "      <th>mean</th>\n",
       "      <td>23.000000</td>\n",
       "      <td>2011-06-17 20:18:27.692307712</td>\n",
       "      <td>1.046965e+06</td>\n",
       "      <td>0.069930</td>\n",
       "      <td>60.663782</td>\n",
       "      <td>3.358607</td>\n",
       "      <td>171.578394</td>\n",
       "      <td>7.999151</td>\n",
       "    </tr>\n",
       "    <tr>\n",
       "      <th>min</th>\n",
       "      <td>1.000000</td>\n",
       "      <td>2010-01-10 00:00:00</td>\n",
       "      <td>2.099862e+05</td>\n",
       "      <td>0.000000</td>\n",
       "      <td>-2.060000</td>\n",
       "      <td>2.472000</td>\n",
       "      <td>126.064000</td>\n",
       "      <td>3.879000</td>\n",
       "    </tr>\n",
       "    <tr>\n",
       "      <th>25%</th>\n",
       "      <td>12.000000</td>\n",
       "      <td>2010-10-12 00:00:00</td>\n",
       "      <td>5.533501e+05</td>\n",
       "      <td>0.000000</td>\n",
       "      <td>47.460000</td>\n",
       "      <td>2.933000</td>\n",
       "      <td>131.735000</td>\n",
       "      <td>6.891000</td>\n",
       "    </tr>\n",
       "    <tr>\n",
       "      <th>50%</th>\n",
       "      <td>23.000000</td>\n",
       "      <td>2011-06-17 00:00:00</td>\n",
       "      <td>9.607460e+05</td>\n",
       "      <td>0.000000</td>\n",
       "      <td>62.670000</td>\n",
       "      <td>3.445000</td>\n",
       "      <td>182.616521</td>\n",
       "      <td>7.874000</td>\n",
       "    </tr>\n",
       "    <tr>\n",
       "      <th>75%</th>\n",
       "      <td>34.000000</td>\n",
       "      <td>2012-03-02 00:00:00</td>\n",
       "      <td>1.420159e+06</td>\n",
       "      <td>0.000000</td>\n",
       "      <td>74.940000</td>\n",
       "      <td>3.735000</td>\n",
       "      <td>212.743293</td>\n",
       "      <td>8.622000</td>\n",
       "    </tr>\n",
       "    <tr>\n",
       "      <th>max</th>\n",
       "      <td>45.000000</td>\n",
       "      <td>2012-12-10 00:00:00</td>\n",
       "      <td>3.818686e+06</td>\n",
       "      <td>1.000000</td>\n",
       "      <td>100.140000</td>\n",
       "      <td>4.468000</td>\n",
       "      <td>227.232807</td>\n",
       "      <td>14.313000</td>\n",
       "    </tr>\n",
       "    <tr>\n",
       "      <th>std</th>\n",
       "      <td>12.988182</td>\n",
       "      <td>NaN</td>\n",
       "      <td>5.643666e+05</td>\n",
       "      <td>0.255049</td>\n",
       "      <td>18.444933</td>\n",
       "      <td>0.459020</td>\n",
       "      <td>39.356712</td>\n",
       "      <td>1.875885</td>\n",
       "    </tr>\n",
       "  </tbody>\n",
       "</table>\n",
       "</div>"
      ],
      "text/plain": [
       "             Store                           Date  Weekly_Sales  Holiday_Flag  \\\n",
       "count  6435.000000                           6435  6.435000e+03   6435.000000   \n",
       "mean     23.000000  2011-06-17 20:18:27.692307712  1.046965e+06      0.069930   \n",
       "min       1.000000            2010-01-10 00:00:00  2.099862e+05      0.000000   \n",
       "25%      12.000000            2010-10-12 00:00:00  5.533501e+05      0.000000   \n",
       "50%      23.000000            2011-06-17 00:00:00  9.607460e+05      0.000000   \n",
       "75%      34.000000            2012-03-02 00:00:00  1.420159e+06      0.000000   \n",
       "max      45.000000            2012-12-10 00:00:00  3.818686e+06      1.000000   \n",
       "std      12.988182                            NaN  5.643666e+05      0.255049   \n",
       "\n",
       "       Temperature   Fuel_Price          CPI  Unemployment  \n",
       "count  6435.000000  6435.000000  6435.000000   6435.000000  \n",
       "mean     60.663782     3.358607   171.578394      7.999151  \n",
       "min      -2.060000     2.472000   126.064000      3.879000  \n",
       "25%      47.460000     2.933000   131.735000      6.891000  \n",
       "50%      62.670000     3.445000   182.616521      7.874000  \n",
       "75%      74.940000     3.735000   212.743293      8.622000  \n",
       "max     100.140000     4.468000   227.232807     14.313000  \n",
       "std      18.444933     0.459020    39.356712      1.875885  "
      ]
     },
     "execution_count": 7,
     "metadata": {},
     "output_type": "execute_result"
    }
   ],
   "source": [
    "df.describe()"
   ]
  },
  {
   "cell_type": "code",
   "execution_count": 8,
   "id": "af6cba37",
   "metadata": {},
   "outputs": [
    {
     "data": {
      "text/html": [
       "<div>\n",
       "<style scoped>\n",
       "    .dataframe tbody tr th:only-of-type {\n",
       "        vertical-align: middle;\n",
       "    }\n",
       "\n",
       "    .dataframe tbody tr th {\n",
       "        vertical-align: top;\n",
       "    }\n",
       "\n",
       "    .dataframe thead th {\n",
       "        text-align: right;\n",
       "    }\n",
       "</style>\n",
       "<table border=\"1\" class=\"dataframe\">\n",
       "  <thead>\n",
       "    <tr style=\"text-align: right;\">\n",
       "      <th></th>\n",
       "      <th>Store</th>\n",
       "      <th>Date</th>\n",
       "      <th>Weekly_Sales</th>\n",
       "      <th>Holiday_Flag</th>\n",
       "      <th>Temperature</th>\n",
       "      <th>Fuel_Price</th>\n",
       "      <th>CPI</th>\n",
       "      <th>Unemployment</th>\n",
       "    </tr>\n",
       "  </thead>\n",
       "  <tbody>\n",
       "    <tr>\n",
       "      <th>0</th>\n",
       "      <td>1</td>\n",
       "      <td>2010-05-02</td>\n",
       "      <td>1643690.9</td>\n",
       "      <td>0</td>\n",
       "      <td>42.31</td>\n",
       "      <td>2.572</td>\n",
       "      <td>211.096358</td>\n",
       "      <td>8.106</td>\n",
       "    </tr>\n",
       "  </tbody>\n",
       "</table>\n",
       "</div>"
      ],
      "text/plain": [
       "   Store       Date  Weekly_Sales  Holiday_Flag  Temperature  Fuel_Price  \\\n",
       "0      1 2010-05-02     1643690.9             0        42.31       2.572   \n",
       "\n",
       "          CPI  Unemployment  \n",
       "0  211.096358         8.106  "
      ]
     },
     "execution_count": 8,
     "metadata": {},
     "output_type": "execute_result"
    }
   ],
   "source": [
    "df.head(1)"
   ]
  },
  {
   "cell_type": "code",
   "execution_count": 9,
   "id": "5921bb29",
   "metadata": {},
   "outputs": [
    {
     "data": {
      "text/plain": [
       "Store                             1\n",
       "Date            2010-01-10 00:00:00\n",
       "Weekly_Sales              209986.25\n",
       "Holiday_Flag                      0\n",
       "Temperature                   -2.06\n",
       "Fuel_Price                    2.472\n",
       "CPI                         126.064\n",
       "Unemployment                  3.879\n",
       "dtype: object"
      ]
     },
     "execution_count": 9,
     "metadata": {},
     "output_type": "execute_result"
    }
   ],
   "source": [
    "df.min()"
   ]
  },
  {
   "cell_type": "code",
   "execution_count": 10,
   "id": "e05cf1fd",
   "metadata": {},
   "outputs": [
    {
     "data": {
      "text/plain": [
       "Store                            45\n",
       "Date            2012-12-10 00:00:00\n",
       "Weekly_Sales             3818686.45\n",
       "Holiday_Flag                      1\n",
       "Temperature                  100.14\n",
       "Fuel_Price                    4.468\n",
       "CPI                      227.232807\n",
       "Unemployment                 14.313\n",
       "dtype: object"
      ]
     },
     "execution_count": 10,
     "metadata": {},
     "output_type": "execute_result"
    }
   ],
   "source": [
    "df.max()"
   ]
  },
  {
   "cell_type": "code",
   "execution_count": 11,
   "id": "950d99be",
   "metadata": {},
   "outputs": [
    {
     "data": {
      "text/html": [
       "<div>\n",
       "<style scoped>\n",
       "    .dataframe tbody tr th:only-of-type {\n",
       "        vertical-align: middle;\n",
       "    }\n",
       "\n",
       "    .dataframe tbody tr th {\n",
       "        vertical-align: top;\n",
       "    }\n",
       "\n",
       "    .dataframe thead th {\n",
       "        text-align: right;\n",
       "    }\n",
       "</style>\n",
       "<table border=\"1\" class=\"dataframe\">\n",
       "  <thead>\n",
       "    <tr style=\"text-align: right;\">\n",
       "      <th></th>\n",
       "      <th>temperatura_mediana</th>\n",
       "      <th>CPI_media</th>\n",
       "      <th>media_taxa_desempregados</th>\n",
       "    </tr>\n",
       "    <tr>\n",
       "      <th>Store</th>\n",
       "      <th></th>\n",
       "      <th></th>\n",
       "      <th></th>\n",
       "    </tr>\n",
       "  </thead>\n",
       "  <tbody>\n",
       "    <tr>\n",
       "      <th>1</th>\n",
       "      <td>69.64</td>\n",
       "      <td>215.996892</td>\n",
       "      <td>7.610420</td>\n",
       "    </tr>\n",
       "    <tr>\n",
       "      <th>2</th>\n",
       "      <td>69.21</td>\n",
       "      <td>215.646311</td>\n",
       "      <td>7.623846</td>\n",
       "    </tr>\n",
       "    <tr>\n",
       "      <th>3</th>\n",
       "      <td>73.01</td>\n",
       "      <td>219.391531</td>\n",
       "      <td>7.176986</td>\n",
       "    </tr>\n",
       "    <tr>\n",
       "      <th>4</th>\n",
       "      <td>64.22</td>\n",
       "      <td>128.679669</td>\n",
       "      <td>5.964692</td>\n",
       "    </tr>\n",
       "    <tr>\n",
       "      <th>5</th>\n",
       "      <td>70.96</td>\n",
       "      <td>216.565581</td>\n",
       "      <td>6.295406</td>\n",
       "    </tr>\n",
       "  </tbody>\n",
       "</table>\n",
       "</div>"
      ],
      "text/plain": [
       "       temperatura_mediana   CPI_media  media_taxa_desempregados\n",
       "Store                                                           \n",
       "1                    69.64  215.996892                  7.610420\n",
       "2                    69.21  215.646311                  7.623846\n",
       "3                    73.01  219.391531                  7.176986\n",
       "4                    64.22  128.679669                  5.964692\n",
       "5                    70.96  216.565581                  6.295406"
      ]
     },
     "execution_count": 11,
     "metadata": {},
     "output_type": "execute_result"
    }
   ],
   "source": [
    "dados_totais = df.groupby('Store').agg(\n",
    "                temperatura_mediana =  pd.NamedAgg('Temperature', 'median'),\n",
    "                CPI_media = pd.NamedAgg('CPI', 'mean'),\n",
    "                media_taxa_desempregados = pd.NamedAgg('Unemployment', 'mean')\n",
    "                                      )\n",
    "\n",
    "dados_totais.head()"
   ]
  },
  {
   "cell_type": "code",
   "execution_count": 12,
   "id": "83513041",
   "metadata": {},
   "outputs": [],
   "source": [
    "### Top 5 lojas com maiores medias da taxa de desemprego \n",
    "top_5_desemprego = dados_totais.sort_values('media_taxa_desempregados', ascending=False).head()\n",
    "top_5_desemprego = top_5_desemprego.reset_index('Store')"
   ]
  },
  {
   "cell_type": "markdown",
   "id": "a7034a2e",
   "metadata": {},
   "source": [
    "### Gráfico comparando as lojas com maior taxa de desemprego com sua CPI"
   ]
  },
  {
   "cell_type": "code",
   "execution_count": 13,
   "id": "d1e9e2c2",
   "metadata": {},
   "outputs": [],
   "source": [
    "stores = ['store ' + str(x) for x in top_5_desemprego['Store']]\n",
    "y1 = top_5_desemprego['media_taxa_desempregados']\n",
    "y2 = top_5_desemprego['CPI_media']\n",
    "largura = 0.3"
   ]
  },
  {
   "cell_type": "code",
   "execution_count": 14,
   "id": "6606652c",
   "metadata": {},
   "outputs": [
    {
     "data": {
      "image/png": "[encoded data removed]",
      "text/plain": [
       "<Figure size 800x400 with 1 Axes>"
      ]
     },
     "metadata": {},
     "output_type": "display_data"
    }
   ],
   "source": [
    "### tamanho do gráfico\n",
    "plt.figure(figsize=(8,4))\n",
    "\n",
    "### barras, linha e pontos\n",
    "plt.bar(stores, y1 * 3, label = 'Média Desemprego', color = 'limegreen')\n",
    "plt.scatter(stores, y2 /2, marker = \"o\", color='royalblue', linewidth = 2Unemployment)\n",
    "plt.plot(stores, y2 / 2, label='CPI', linestyle='-', color='teal')    \n",
    "\n",
    "### titúlo\n",
    "plt.title(\"Comparativo da CPI com taxa de Desemprego\")\n",
    "\n",
    "### Removendo rótulos do eixo y\n",
    "plt.yticks([])\n",
    "\n",
    "plt.legend() \n",
    "plt.show()"
   ]
  },
  {
   "cell_type": "code",
   "execution_count": 15,
   "id": "6cba35fb",
   "metadata": {},
   "outputs": [
    {
     "data": {
      "text/html": [
       "<div>\n",
       "<style scoped>\n",
       "    .dataframe tbody tr th:only-of-type {\n",
       "        vertical-align: middle;\n",
       "    }\n",
       "\n",
       "    .dataframe tbody tr th {\n",
       "        vertical-align: top;\n",
       "    }\n",
       "\n",
       "    .dataframe thead th {\n",
       "        text-align: right;\n",
       "    }\n",
       "</style>\n",
       "<table border=\"1\" class=\"dataframe\">\n",
       "  <thead>\n",
       "    <tr style=\"text-align: right;\">\n",
       "      <th></th>\n",
       "      <th>Store</th>\n",
       "      <th>temperatura_mediana</th>\n",
       "      <th>CPI_media</th>\n",
       "      <th>media_taxa_desempregados</th>\n",
       "    </tr>\n",
       "  </thead>\n",
       "  <tbody>\n",
       "    <tr>\n",
       "      <th>0</th>\n",
       "      <td>9</td>\n",
       "      <td>69.19</td>\n",
       "      <td>219.626689</td>\n",
       "      <td>6.099881</td>\n",
       "    </tr>\n",
       "    <tr>\n",
       "      <th>1</th>\n",
       "      <td>8</td>\n",
       "      <td>63.55</td>\n",
       "      <td>219.439026</td>\n",
       "      <td>6.091846</td>\n",
       "    </tr>\n",
       "    <tr>\n",
       "      <th>2</th>\n",
       "      <td>11</td>\n",
       "      <td>73.77</td>\n",
       "      <td>219.391531</td>\n",
       "      <td>7.176986</td>\n",
       "    </tr>\n",
       "    <tr>\n",
       "      <th>3</th>\n",
       "      <td>3</td>\n",
       "      <td>73.01</td>\n",
       "      <td>219.391531</td>\n",
       "      <td>7.176986</td>\n",
       "    </tr>\n",
       "    <tr>\n",
       "      <th>4</th>\n",
       "      <td>6</td>\n",
       "      <td>70.97</td>\n",
       "      <td>217.553197</td>\n",
       "      <td>6.606902</td>\n",
       "    </tr>\n",
       "  </tbody>\n",
       "</table>\n",
       "</div>"
      ],
      "text/plain": [
       "   Store  temperatura_mediana   CPI_media  media_taxa_desempregados\n",
       "0      9                69.19  219.626689                  6.099881\n",
       "1      8                63.55  219.439026                  6.091846\n",
       "2     11                73.77  219.391531                  7.176986\n",
       "3      3                73.01  219.391531                  7.176986\n",
       "4      6                70.97  217.553197                  6.606902"
      ]
     },
     "execution_count": 15,
     "metadata": {},
     "output_type": "execute_result"
    }
   ],
   "source": [
    "### Primeiras 5 lojas com maiores medianas do CPI\n",
    "top_5_cpi = dados_totais.sort_values('CPI_media', ascending=False).head()\n",
    "top_5_cpi = top_5_cpi.reset_index('Store')\n",
    "top_5_cpi"
   ]
  },
  {
   "cell_type": "markdown",
   "id": "796c1c09",
   "metadata": {},
   "source": []
  },
  {
   "cell_type": "markdown",
   "id": "d5ac5b27",
   "metadata": {},
   "source": [
    "## Exercícios com datas "
   ]
  },
  {
   "cell_type": "code",
   "execution_count": 16,
   "id": "c6447f4d",
   "metadata": {},
   "outputs": [],
   "source": [
    "### mostrando 2 casas decimais nos dataframes\n",
    "pd.set_option('display.precision', 2)\n",
    "### tirando notação cientifica\n",
    "pd.set_option('float_format', '{:.2f}'.format)"
   ]
  },
  {
   "cell_type": "code",
   "execution_count": 17,
   "id": "89ff1a80",
   "metadata": {},
   "outputs": [
    {
     "data": {
      "text/html": [
       "<div>\n",
       "<style scoped>\n",
       "    .dataframe tbody tr th:only-of-type {\n",
       "        vertical-align: middle;\n",
       "    }\n",
       "\n",
       "    .dataframe tbody tr th {\n",
       "        vertical-align: top;\n",
       "    }\n",
       "\n",
       "    .dataframe thead th {\n",
       "        text-align: right;\n",
       "    }\n",
       "</style>\n",
       "<table border=\"1\" class=\"dataframe\">\n",
       "  <thead>\n",
       "    <tr style=\"text-align: right;\">\n",
       "      <th></th>\n",
       "      <th>Store</th>\n",
       "      <th>Date</th>\n",
       "      <th>Weekly_Sales</th>\n",
       "      <th>Holiday_Flag</th>\n",
       "      <th>Temperature</th>\n",
       "      <th>Fuel_Price</th>\n",
       "      <th>CPI</th>\n",
       "      <th>Unemployment</th>\n",
       "    </tr>\n",
       "  </thead>\n",
       "  <tbody>\n",
       "    <tr>\n",
       "      <th>0</th>\n",
       "      <td>1</td>\n",
       "      <td>2010-05-02</td>\n",
       "      <td>1643690.90</td>\n",
       "      <td>0</td>\n",
       "      <td>42.31</td>\n",
       "      <td>2.57</td>\n",
       "      <td>211.10</td>\n",
       "      <td>8.11</td>\n",
       "    </tr>\n",
       "  </tbody>\n",
       "</table>\n",
       "</div>"
      ],
      "text/plain": [
       "   Store       Date  Weekly_Sales  Holiday_Flag  Temperature  Fuel_Price  \\\n",
       "0      1 2010-05-02    1643690.90             0        42.31        2.57   \n",
       "\n",
       "     CPI  Unemployment  \n",
       "0 211.10          8.11  "
      ]
     },
     "execution_count": 17,
     "metadata": {},
     "output_type": "execute_result"
    }
   ],
   "source": [
    "df.head(1)"
   ]
  },
  {
   "cell_type": "code",
   "execution_count": 18,
   "id": "8a81bf7b",
   "metadata": {},
   "outputs": [],
   "source": [
    "df['Store'] = df['Store'].astype(str)"
   ]
  },
  {
   "cell_type": "code",
   "execution_count": 19,
   "id": "543fff85",
   "metadata": {},
   "outputs": [
    {
     "data": {
      "text/plain": [
       "Store                   object\n",
       "Date            datetime64[ns]\n",
       "Weekly_Sales           float64\n",
       "Holiday_Flag             int64\n",
       "Temperature            float64\n",
       "Fuel_Price             float64\n",
       "CPI                    float64\n",
       "Unemployment           float64\n",
       "dtype: object"
      ]
     },
     "execution_count": 19,
     "metadata": {},
     "output_type": "execute_result"
    }
   ],
   "source": [
    "df.dtypes"
   ]
  },
  {
   "cell_type": "markdown",
   "id": "b9c3ac6e",
   "metadata": {},
   "source": [
    "### Agrupando por ano e  somando vendas semanais"
   ]
  },
  {
   "cell_type": "markdown",
   "id": "187d22d9",
   "metadata": {},
   "source": [
    "#### Medianas"
   ]
  },
  {
   "cell_type": "code",
   "execution_count": 20,
   "id": "41281fd6",
   "metadata": {},
   "outputs": [
    {
     "data": {
      "text/html": [
       "<div>\n",
       "<style scoped>\n",
       "    .dataframe tbody tr th:only-of-type {\n",
       "        vertical-align: middle;\n",
       "    }\n",
       "\n",
       "    .dataframe tbody tr th {\n",
       "        vertical-align: top;\n",
       "    }\n",
       "\n",
       "    .dataframe thead th {\n",
       "        text-align: right;\n",
       "    }\n",
       "</style>\n",
       "<table border=\"1\" class=\"dataframe\">\n",
       "  <thead>\n",
       "    <tr style=\"text-align: right;\">\n",
       "      <th></th>\n",
       "      <th>Weekly_Sales</th>\n",
       "      <th>Holiday_Flag</th>\n",
       "      <th>Temperature</th>\n",
       "      <th>Fuel_Price</th>\n",
       "      <th>CPI</th>\n",
       "      <th>Unemployment</th>\n",
       "    </tr>\n",
       "    <tr>\n",
       "      <th>Date</th>\n",
       "      <th></th>\n",
       "      <th></th>\n",
       "      <th></th>\n",
       "      <th></th>\n",
       "      <th></th>\n",
       "      <th></th>\n",
       "    </tr>\n",
       "  </thead>\n",
       "  <tbody>\n",
       "    <tr>\n",
       "      <th>2010</th>\n",
       "      <td>1059669.50</td>\n",
       "      <td>0.08</td>\n",
       "      <td>60.27</td>\n",
       "      <td>2.82</td>\n",
       "      <td>168.10</td>\n",
       "      <td>8.49</td>\n",
       "    </tr>\n",
       "    <tr>\n",
       "      <th>2011</th>\n",
       "      <td>1046239.32</td>\n",
       "      <td>0.08</td>\n",
       "      <td>58.80</td>\n",
       "      <td>3.56</td>\n",
       "      <td>171.55</td>\n",
       "      <td>8.08</td>\n",
       "    </tr>\n",
       "    <tr>\n",
       "      <th>2012</th>\n",
       "      <td>1033660.39</td>\n",
       "      <td>0.05</td>\n",
       "      <td>63.36</td>\n",
       "      <td>3.71</td>\n",
       "      <td>175.50</td>\n",
       "      <td>7.35</td>\n",
       "    </tr>\n",
       "  </tbody>\n",
       "</table>\n",
       "</div>"
      ],
      "text/plain": [
       "      Weekly_Sales  Holiday_Flag  Temperature  Fuel_Price    CPI  Unemployment\n",
       "Date                                                                          \n",
       "2010    1059669.50          0.08        60.27        2.82 168.10          8.49\n",
       "2011    1046239.32          0.08        58.80        3.56 171.55          8.08\n",
       "2012    1033660.39          0.05        63.36        3.71 175.50          7.35"
      ]
     },
     "execution_count": 20,
     "metadata": {},
     "output_type": "execute_result"
    }
   ],
   "source": [
    "df.groupby(df['Date'].dt.year).mean('Fuel_Price')"
   ]
  },
  {
   "cell_type": "code",
   "execution_count": 21,
   "id": "8ef2bf2e",
   "metadata": {},
   "outputs": [
    {
     "data": {
      "text/html": [
       "<div>\n",
       "<style scoped>\n",
       "    .dataframe tbody tr th:only-of-type {\n",
       "        vertical-align: middle;\n",
       "    }\n",
       "\n",
       "    .dataframe tbody tr th {\n",
       "        vertical-align: top;\n",
       "    }\n",
       "\n",
       "    .dataframe thead th {\n",
       "        text-align: right;\n",
       "    }\n",
       "</style>\n",
       "<table border=\"1\" class=\"dataframe\">\n",
       "  <thead>\n",
       "    <tr style=\"text-align: right;\">\n",
       "      <th></th>\n",
       "      <th>Date</th>\n",
       "      <th>vendas</th>\n",
       "      <th>preço_combustivel</th>\n",
       "      <th>cpi</th>\n",
       "      <th>taxa_desemprego</th>\n",
       "    </tr>\n",
       "  </thead>\n",
       "  <tbody>\n",
       "    <tr>\n",
       "      <th>0</th>\n",
       "      <td>2010</td>\n",
       "      <td>974696.05</td>\n",
       "      <td>2.80</td>\n",
       "      <td>182.04</td>\n",
       "      <td>8.20</td>\n",
       "    </tr>\n",
       "    <tr>\n",
       "      <th>1</th>\n",
       "      <td>2011</td>\n",
       "      <td>948390.02</td>\n",
       "      <td>3.58</td>\n",
       "      <td>185.27</td>\n",
       "      <td>7.85</td>\n",
       "    </tr>\n",
       "    <tr>\n",
       "      <th>2</th>\n",
       "      <td>2012</td>\n",
       "      <td>960476.10</td>\n",
       "      <td>3.72</td>\n",
       "      <td>190.46</td>\n",
       "      <td>7.15</td>\n",
       "    </tr>\n",
       "  </tbody>\n",
       "</table>\n",
       "</div>"
      ],
      "text/plain": [
       "   Date    vendas  preço_combustivel    cpi  taxa_desemprego\n",
       "0  2010 974696.05               2.80 182.04             8.20\n",
       "1  2011 948390.02               3.58 185.27             7.85\n",
       "2  2012 960476.10               3.72 190.46             7.15"
      ]
     },
     "execution_count": 21,
     "metadata": {},
     "output_type": "execute_result"
    }
   ],
   "source": [
    "medianas_por_ano = df.groupby(df['Date'].dt.year).agg(\n",
    "    vendas = pd.NamedAgg('Weekly_Sales', 'median'),\n",
    "    preço_combustivel = pd.NamedAgg('Fuel_Price', 'median'),\n",
    "    cpi = pd.NamedAgg('CPI', 'median'),\n",
    "    taxa_desemprego = pd.NamedAgg('Unemployment', 'median')\n",
    ")\n",
    "medianas_por_ano = medianas_por_ano.reset_index('Date')\n",
    "medianas_por_ano"
   ]
  },
  {
   "cell_type": "code",
   "execution_count": 22,
   "id": "82c60059",
   "metadata": {},
   "outputs": [],
   "source": [
    "largura = 0.35\n",
    "x = medianas_por_ano['Date']\n",
    "y1 = medianas_por_ano['vendas']\n",
    "y2 = medianas_por_ano['taxa_desemprego']\n",
    "y3 = medianas_por_ano['cpi']"
   ]
  },
  {
   "cell_type": "code",
   "execution_count": 23,
   "id": "07471271",
   "metadata": {},
   "outputs": [
    {
     "data": {
      "image/png": "[encoded data removed]",
      "text/plain": [
       "<Figure size 800x400 with 1 Axes>"
      ]
     },
     "metadata": {},
     "output_type": "display_data"
    }
   ],
   "source": [
    "plt.figure(figsize=(8,4))\n",
    "plt.title('Mediana das Vendas de toda a Rede')\n",
    "plt.bar(x, y1, label = 'Vendas', color = 'mediumseagreen')\n",
    "plt.ylim(940000, 980000)\n",
    "plt.xticks(x)\n",
    "plt.yticks(y1)\n",
    "plt.grid(axis='y', color='silver')\n",
    "plt.legend()\n",
    "plt.show()"
   ]
  },
  {
   "cell_type": "code",
   "execution_count": 33,
   "id": "6bea8bd1",
   "metadata": {},
   "outputs": [
    {
     "data": {
      "image/png": "[encoded data removed]",
      "text/plain": [
       "<Figure size 800x400 with 1 Axes>"
      ]
     },
     "metadata": {},
     "output_type": "display_data"
    }
   ],
   "source": [
    "plt.figure(figsize=(8,4))\n",
    "plt.title('Taxa de Desemprego')\n",
    "plt.plot(x, y2, label = 'Desemprego', color = 'royalblue', linewidth = 3)\n",
    "plt.ylim(6, 9)\n",
    "plt.xticks(x)\n",
    "plt.grid(axis='y', color = 'silver')\n",
    "plt.legend()\n",
    "plt.show()"
   ]
  },
  {
   "cell_type": "code",
   "execution_count": 25,
   "id": "b80d0306",
   "metadata": {},
   "outputs": [
    {
     "data": {
      "image/png": "[encoded data removed]",
      "text/plain": [
       "<Figure size 800x400 with 1 Axes>"
      ]
     },
     "metadata": {},
     "output_type": "display_data"
    }
   ],
   "source": [
    "plt.figure(figsize=(8,4))\n",
    "plt.title('CPI')\n",
    "plt.plot(x, y3, label = 'CPI', color = 'royalblue', linewidth = 3)\n",
    "plt.ylim(180, 200)\n",
    "plt.xticks(x)\n",
    "plt.grid(axis='y', color = 'silver')\n",
    "plt.legend()\n",
    "plt.show()"
   ]
  },
  {
   "cell_type": "code",
   "execution_count": 48,
   "id": "b6aafa47",
   "metadata": {},
   "outputs": [
    {
     "data": {
      "image/png": "[encoded data removed]",
      "text/plain": [
       "<Figure size 800x400 with 1 Axes>"
      ]
     },
     "metadata": {},
     "output_type": "display_data"
    }
   ],
   "source": [
    "plt.figure(figsize=(8,4))\n",
    "plt.title('Comparatvivo da Taxa de Desemprego e CPI')\n",
    "plt.plot(x, y3 / 5, label = 'CPI', color = 'mediumseagreen', linewidth = 3)\n",
    "plt.plot(x, y2 * 5, label = 'Desemprego', color = 'royalblue', linewidth = 3)\n",
    "plt.yticks([])\n",
    "plt.xticks(x)\n",
    "plt.legend()\n",
    "plt.show()"
   ]
  },
  {
   "cell_type": "markdown",
   "id": "16cbbb03",
   "metadata": {},
   "source": [
    "#### Médias"
   ]
  },
  {
   "cell_type": "code",
   "execution_count": 26,
   "id": "bb6d3195",
   "metadata": {},
   "outputs": [
    {
     "data": {
      "text/html": [
       "<div>\n",
       "<style scoped>\n",
       "    .dataframe tbody tr th:only-of-type {\n",
       "        vertical-align: middle;\n",
       "    }\n",
       "\n",
       "    .dataframe tbody tr th {\n",
       "        vertical-align: top;\n",
       "    }\n",
       "\n",
       "    .dataframe thead th {\n",
       "        text-align: right;\n",
       "    }\n",
       "</style>\n",
       "<table border=\"1\" class=\"dataframe\">\n",
       "  <thead>\n",
       "    <tr style=\"text-align: right;\">\n",
       "      <th></th>\n",
       "      <th>vendas</th>\n",
       "      <th>preço_combustivel</th>\n",
       "      <th>cpi</th>\n",
       "      <th>taxa_desemprego</th>\n",
       "    </tr>\n",
       "    <tr>\n",
       "      <th>Date</th>\n",
       "      <th></th>\n",
       "      <th></th>\n",
       "      <th></th>\n",
       "      <th></th>\n",
       "    </tr>\n",
       "  </thead>\n",
       "  <tbody>\n",
       "    <tr>\n",
       "      <th>2010</th>\n",
       "      <td>2288886120.41</td>\n",
       "      <td>2.82</td>\n",
       "      <td>168.10</td>\n",
       "      <td>8.49</td>\n",
       "    </tr>\n",
       "    <tr>\n",
       "      <th>2011</th>\n",
       "      <td>2448200007.35</td>\n",
       "      <td>3.56</td>\n",
       "      <td>171.55</td>\n",
       "      <td>8.08</td>\n",
       "    </tr>\n",
       "    <tr>\n",
       "      <th>2012</th>\n",
       "      <td>2000132859.35</td>\n",
       "      <td>3.71</td>\n",
       "      <td>175.50</td>\n",
       "      <td>7.35</td>\n",
       "    </tr>\n",
       "  </tbody>\n",
       "</table>\n",
       "</div>"
      ],
      "text/plain": [
       "            vendas  preço_combustivel    cpi  taxa_desemprego\n",
       "Date                                                         \n",
       "2010 2288886120.41               2.82 168.10             8.49\n",
       "2011 2448200007.35               3.56 171.55             8.08\n",
       "2012 2000132859.35               3.71 175.50             7.35"
      ]
     },
     "execution_count": 26,
     "metadata": {},
     "output_type": "execute_result"
    }
   ],
   "source": [
    "medias_por_ano =  df.groupby(df['Date'].dt.year).agg(\n",
    "    vendas = pd.NamedAgg('Weekly_Sales', 'sum'),\n",
    "    preço_combustivel = pd.NamedAgg('Fuel_Price', 'mean'),\n",
    "    cpi = pd.NamedAgg('CPI', 'mean'),\n",
    "    taxa_desemprego = pd.NamedAgg('Unemployment', 'mean')\n",
    ")\n",
    "medias_por_ano"
   ]
  },
  {
   "cell_type": "code",
   "execution_count": null,
   "id": "fd34954e",
   "metadata": {},
   "outputs": [],
   "source": []
  },
  {
   "cell_type": "code",
   "execution_count": null,
   "id": "5c5cfa70",
   "metadata": {},
   "outputs": [],
   "source": []
  },
  {
   "cell_type": "markdown",
   "id": "3d9176c1",
   "metadata": {},
   "source": [
    "## Dados por ano/mes"
   ]
  },
  {
   "cell_type": "code",
   "execution_count": 27,
   "id": "3a5f2a5d",
   "metadata": {},
   "outputs": [],
   "source": [
    "dados_2010 = df.loc[(df['Date'].dt.year == 2010)]\n",
    "dados_2011 = df.loc[(df['Date'].dt.year == 2011)]\n",
    "dados_2012 = df.loc[(df['Date'].dt.year == 2012)]"
   ]
  },
  {
   "cell_type": "code",
   "execution_count": 28,
   "id": "68fa3aa2",
   "metadata": {},
   "outputs": [],
   "source": [
    "months_abbr = [\n",
    "    \"jan\",  # January\n",
    "    \"feb\",  # February\n",
    "    \"mar\",  # March\n",
    "    \"apr\",  # April\n",
    "    \"may\",  # May\n",
    "    \"jun\",  # June\n",
    "    \"jul\",  # July\n",
    "    \"aug\",  # August\n",
    "    \"sep\",  # September\n",
    "    \"oct\",  # October\n",
    "    \"nov\",  # November\n",
    "    \"dec\"   # December\n",
    "]\n",
    "months_dict = {i: month for i, month in enumerate(months_abbr)}"
   ]
  },
  {
   "cell_type": "code",
   "execution_count": 29,
   "id": "fdbf1547",
   "metadata": {},
   "outputs": [
    {
     "data": {
      "text/html": [
       "<div>\n",
       "<style scoped>\n",
       "    .dataframe tbody tr th:only-of-type {\n",
       "        vertical-align: middle;\n",
       "    }\n",
       "\n",
       "    .dataframe tbody tr th {\n",
       "        vertical-align: top;\n",
       "    }\n",
       "\n",
       "    .dataframe thead th {\n",
       "        text-align: right;\n",
       "    }\n",
       "</style>\n",
       "<table border=\"1\" class=\"dataframe\">\n",
       "  <thead>\n",
       "    <tr style=\"text-align: right;\">\n",
       "      <th></th>\n",
       "      <th>Store</th>\n",
       "      <th>Date</th>\n",
       "      <th>Weekly_Sales</th>\n",
       "      <th>Holiday_Flag</th>\n",
       "      <th>Temperature</th>\n",
       "      <th>Fuel_Price</th>\n",
       "      <th>CPI</th>\n",
       "      <th>Unemployment</th>\n",
       "    </tr>\n",
       "  </thead>\n",
       "  <tbody>\n",
       "    <tr>\n",
       "      <th>0</th>\n",
       "      <td>1</td>\n",
       "      <td>2010-05-02</td>\n",
       "      <td>1643690.90</td>\n",
       "      <td>0</td>\n",
       "      <td>42.31</td>\n",
       "      <td>2.57</td>\n",
       "      <td>211.10</td>\n",
       "      <td>8.11</td>\n",
       "    </tr>\n",
       "    <tr>\n",
       "      <th>1</th>\n",
       "      <td>1</td>\n",
       "      <td>2010-12-02</td>\n",
       "      <td>1641957.44</td>\n",
       "      <td>1</td>\n",
       "      <td>38.51</td>\n",
       "      <td>2.55</td>\n",
       "      <td>211.24</td>\n",
       "      <td>8.11</td>\n",
       "    </tr>\n",
       "    <tr>\n",
       "      <th>2</th>\n",
       "      <td>1</td>\n",
       "      <td>2010-02-19</td>\n",
       "      <td>1611968.17</td>\n",
       "      <td>0</td>\n",
       "      <td>39.93</td>\n",
       "      <td>2.51</td>\n",
       "      <td>211.29</td>\n",
       "      <td>8.11</td>\n",
       "    </tr>\n",
       "    <tr>\n",
       "      <th>3</th>\n",
       "      <td>1</td>\n",
       "      <td>2010-02-26</td>\n",
       "      <td>1409727.59</td>\n",
       "      <td>0</td>\n",
       "      <td>46.63</td>\n",
       "      <td>2.56</td>\n",
       "      <td>211.32</td>\n",
       "      <td>8.11</td>\n",
       "    </tr>\n",
       "    <tr>\n",
       "      <th>4</th>\n",
       "      <td>1</td>\n",
       "      <td>2010-05-03</td>\n",
       "      <td>1554806.68</td>\n",
       "      <td>0</td>\n",
       "      <td>46.50</td>\n",
       "      <td>2.62</td>\n",
       "      <td>211.35</td>\n",
       "      <td>8.11</td>\n",
       "    </tr>\n",
       "  </tbody>\n",
       "</table>\n",
       "</div>"
      ],
      "text/plain": [
       "  Store       Date  Weekly_Sales  Holiday_Flag  Temperature  Fuel_Price  \\\n",
       "0     1 2010-05-02    1643690.90             0        42.31        2.57   \n",
       "1     1 2010-12-02    1641957.44             1        38.51        2.55   \n",
       "2     1 2010-02-19    1611968.17             0        39.93        2.51   \n",
       "3     1 2010-02-26    1409727.59             0        46.63        2.56   \n",
       "4     1 2010-05-03    1554806.68             0        46.50        2.62   \n",
       "\n",
       "     CPI  Unemployment  \n",
       "0 211.10          8.11  \n",
       "1 211.24          8.11  \n",
       "2 211.29          8.11  \n",
       "3 211.32          8.11  \n",
       "4 211.35          8.11  "
      ]
     },
     "execution_count": 29,
     "metadata": {},
     "output_type": "execute_result"
    }
   ],
   "source": [
    "dados_2010.head()"
   ]
  },
  {
   "cell_type": "code",
   "execution_count": 30,
   "id": "709e9ebf",
   "metadata": {},
   "outputs": [],
   "source": [
    "### criando df para os meses de 2010\n",
    "\n",
    "dados_2010_mes = dados_2010.groupby(dados_2010['Date'].dt.month).agg(\n",
    "    vendas = pd.NamedAgg('Weekly_Sales', 'sum'),\n",
    "    preço_combustivel = pd.NamedAgg('Fuel_Price', 'mean'),\n",
    "    cpi = pd.NamedAgg('CPI', 'median'),\n",
    "    taxa_desemprego = pd.NamedAgg('Unemployment', 'median')\n",
    ")\n",
    "dados_2010_mes = dados_2010_mes.reset_index('Date')\n",
    "dados_2010_mes = dados_2010_mes.rename(columns={'Date': 'Month'})\n",
    "dados_2010_mes = dados_2010_mes.rename(index= months_dict)"
   ]
  },
  {
   "cell_type": "code",
   "execution_count": 31,
   "id": "41cf194c",
   "metadata": {},
   "outputs": [],
   "source": [
    "### criando df para os meses de 2011\n",
    "\n",
    "dados_2011_mes = dados_2011.groupby(dados_2011['Date'].dt.month).agg(\n",
    "    vendas = pd.NamedAgg('Weekly_Sales', 'sum'),\n",
    "    preço_combustivel = pd.NamedAgg('Fuel_Price', 'mean'),\n",
    "    cpi = pd.NamedAgg('CPI', 'median'),\n",
    "    taxa_desemprego = pd.NamedAgg('Unemployment', 'median')\n",
    ")\n",
    "dados_2011_mes = dados_2011_mes.reset_index('Date')\n",
    "dados_2011_mes = dados_2011_mes.rename(columns={'Date': 'Month'})\n",
    "dados_2011_mes = dados_2011_mes.rename(index= months_dict)"
   ]
  },
  {
   "cell_type": "code",
   "execution_count": 32,
   "id": "599e77d5",
   "metadata": {},
   "outputs": [],
   "source": [
    "### criando df para os meses de 2012\n",
    "\n",
    "dados_2012_mes = dados_2012.groupby(dados_2011['Date'].dt.month).agg(\n",
    "    vendas = pd.NamedAgg('Weekly_Sales', 'sum'),\n",
    "    preço_combustivel = pd.NamedAgg('Fuel_Price', 'mean'),\n",
    "    cpi = pd.NamedAgg('CPI', 'median'),\n",
    "    taxa_desemprego = pd.NamedAgg('Unemployment', 'median')\n",
    ")\n",
    "dados_2012_mes = dados_2012_mes.reset_index('Date')\n",
    "dados_2012_mes = dados_2012_mes.rename(columns={'Date': 'Month'})\n",
    "dados_2012_mes = dados_2012_mes.rename(index= months_dict)"
   ]
  },
  {
   "cell_type": "code",
   "execution_count": null,
   "id": "a1d6523a",
   "metadata": {},
   "outputs": [],
   "source": []
  },
  {
   "cell_type": "code",
   "execution_count": null,
   "id": "87d3b417",
   "metadata": {},
   "outputs": [],
   "source": []
  },
  {
   "cell_type": "code",
   "execution_count": null,
   "id": "05e4e6d4",
   "metadata": {},
   "outputs": [],
   "source": []
  },
  {
   "cell_type": "code",
   "execution_count": null,
   "id": "0e919e35",
   "metadata": {},
   "outputs": [],
   "source": []
  },
  {
   "cell_type": "code",
   "execution_count": null,
   "id": "b3f95695",
   "metadata": {},
   "outputs": [],
   "source": []
  },
  {
   "cell_type": "code",
   "execution_count": null,
   "id": "6df10064",
   "metadata": {},
   "outputs": [],
   "source": []
  },
  {
   "cell_type": "code",
   "execution_count": null,
   "id": "fc58038e",
   "metadata": {},
   "outputs": [],
   "source": []
  },
  {
   "cell_type": "code",
   "execution_count": null,
   "id": "c19baba5",
   "metadata": {},
   "outputs": [],
   "source": []
  },
  {
   "cell_type": "code",
   "execution_count": null,
   "id": "8152e286",
   "metadata": {},
   "outputs": [],
   "source": []
  },
  {
   "cell_type": "code",
   "execution_count": null,
   "id": "51b7091f",
   "metadata": {},
   "outputs": [],
   "source": []
  },
  {
   "cell_type": "code",
   "execution_count": null,
   "id": "61d97c2d",
   "metadata": {},
   "outputs": [],
   "source": []
  },
  {
   "cell_type": "code",
   "execution_count": null,
   "id": "4da28387",
   "metadata": {},
   "outputs": [],
   "source": []
  },
  {
   "cell_type": "code",
   "execution_count": null,
   "id": "84e925f3",
   "metadata": {},
   "outputs": [],
   "source": []
  },
  {
   "cell_type": "code",
   "execution_count": null,
   "id": "14c1c77d",
   "metadata": {},
   "outputs": [],
   "source": []
  },
  {
   "cell_type": "code",
   "execution_count": null,
   "id": "53cb4abd",
   "metadata": {},
   "outputs": [],
   "source": []
  },
  {
   "cell_type": "code",
   "execution_count": null,
   "id": "572266e0",
   "metadata": {},
   "outputs": [],
   "source": []
  },
  {
   "cell_type": "code",
   "execution_count": null,
   "id": "ac596c8f",
   "metadata": {},
   "outputs": [],
   "source": []
  },
  {
   "cell_type": "code",
   "execution_count": null,
   "id": "81571594",
   "metadata": {},
   "outputs": [],
   "source": []
  },
  {
   "cell_type": "code",
   "execution_count": null,
   "id": "b19ffc4c",
   "metadata": {},
   "outputs": [],
   "source": []
  }
 ],
 "metadata": {
  "kernelspec": {
   "display_name": "Python 3 (ipykernel)",
   "language": "python",
   "name": "python3"
  },
  "language_info": {
   "codemirror_mode": {
    "name": "ipython",
    "version": 3
   },
   "file_extension": ".py",
   "mimetype": "text/x-python",
   "name": "python",
   "nbconvert_exporter": "python",
   "pygments_lexer": "ipython3",
   "version": "3.11.5"
  }
 },
 "nbformat": 4,
 "nbformat_minor": 5
}
